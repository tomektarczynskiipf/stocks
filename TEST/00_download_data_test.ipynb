{
 "cells": [
  {
   "cell_type": "code",
   "execution_count": 3,
   "id": "b5899483-16a5-42f6-a131-594a20387f33",
   "metadata": {},
   "outputs": [
    {
     "name": "stdout",
     "output_type": "stream",
     "text": [
      "All tests passed successfully!\n"
     ]
    }
   ],
   "source": [
    "import boto3\n",
    "\n",
    "def validate_s3_folder(bucket_name, folder_path):\n",
    "    # Create an S3 client\n",
    "    s3_client = boto3.client('s3')\n",
    "\n",
    "    # List objects within the specified folder\n",
    "    response = s3_client.list_objects_v2(Bucket=bucket_name, Prefix=folder_path)\n",
    "\n",
    "    # Check if the folder contains any objects\n",
    "    if 'Contents' not in response:\n",
    "        raise ValueError(f\"No files found in the specified folder: {folder_path}\")\n",
    "\n",
    "    # Extract the file information\n",
    "    files = [item for item in response['Contents'] if not item['Key'].endswith('/')]\n",
    "\n",
    "    # Check whether there are exactly 4 files\n",
    "    if len(files) != 4:\n",
    "        raise ValueError(f\"Expected 4 files, but found {len(files)} files in the folder: {folder_path}\")\n",
    "\n",
    "    # Check whether each file has a .csv extension and size above 300kB\n",
    "    for file in files:\n",
    "        file_key = file['Key']\n",
    "        file_size = file['Size']\n",
    "        \n",
    "        if not file_key.endswith('.csv'):\n",
    "            raise ValueError(f\"File does not have a .csv extension: {file_key}\")\n",
    "        \n",
    "        if file_size <= 300 * 1024:  # 300kB in bytes\n",
    "            raise ValueError(f\"File size is not above 300kB: {file_key} (size: {file_size} bytes)\")\n",
    "\n",
    "    print(\"All tests passed successfully!\")\n",
    "\n",
    "# Example usage\n",
    "bucket_name = 'sagemaker-bucket-ds'\n",
    "folder_path = '01_STOCKS/DATA/RAW/'\n",
    "\n",
    "validate_s3_folder(bucket_name, folder_path)"
   ]
  }
 ],
 "metadata": {
  "kernelspec": {
   "display_name": "Python 3 (ipykernel)",
   "language": "python",
   "name": "python3"
  },
  "language_info": {
   "codemirror_mode": {
    "name": "ipython",
    "version": 3
   },
   "file_extension": ".py",
   "mimetype": "text/x-python",
   "name": "python",
   "nbconvert_exporter": "python",
   "pygments_lexer": "ipython3",
   "version": "3.10.14"
  }
 },
 "nbformat": 4,
 "nbformat_minor": 5
}
