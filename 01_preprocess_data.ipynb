{
 "cells": [
  {
   "cell_type": "code",
   "execution_count": 10,
   "id": "f05dad97-7c0d-4b49-9c68-18ef27b80778",
   "metadata": {},
   "outputs": [
    {
     "name": "stdout",
     "output_type": "stream",
     "text": [
      "Preprocessed file uploaded to s3://sagemaker-bucket-ds/01_STOCKS/DATA/PREPROCESSED/^spx_20000101_20231231_d.csv\n",
      "Preprocessed file uploaded to s3://sagemaker-bucket-ds/01_STOCKS/DATA/PREPROCESSED/aapl.us_20000101_20231231_d.csv\n",
      "Preprocessed file uploaded to s3://sagemaker-bucket-ds/01_STOCKS/DATA/PREPROCESSED/mcd.us_20000101_20231231_d.csv\n",
      "Preprocessed file uploaded to s3://sagemaker-bucket-ds/01_STOCKS/DATA/PREPROCESSED/msft.us_20000101_20231231_d.csv\n"
     ]
    }
   ],
   "source": [
    "import pandas as pd\n",
    "import boto3\n",
    "import os\n",
    "from io import StringIO\n",
    "\n",
    "def preprocess_stock_data_from_s3(input_bucket_name, input_file_name, output_bucket_name, output_file_name):\n",
    "    # Create an S3 client\n",
    "    s3_client = boto3.client('s3')\n",
    "\n",
    "    # Read the file from S3\n",
    "    s3_object = s3_client.get_object(Bucket=input_bucket_name, Key=input_file_name)\n",
    "    file_content = s3_object['Body'].read().decode('utf-8')\n",
    "\n",
    "    # Read the content into a DataFrame\n",
    "    df = pd.read_csv(StringIO(file_content))\n",
    "\n",
    "    # Convert the 'Data' column to datetime format\n",
    "    df['Data'] = pd.to_datetime(df['Data'])\n",
    "    \n",
    "    # Extract the ticker from the file name\n",
    "    ticker = os.path.basename(input_file_name).split('_')[0]\n",
    "\n",
    "    # Rename columns to lowercase\n",
    "    df.columns = df.columns.str.lower()\n",
    "\n",
    "    # Add prefix with ticker to each column name except 'date'\n",
    "    df.columns = ['date' if col == 'data' else f\"{ticker}_{col}\" for col in df.columns]\n",
    "\n",
    "    # Save the preprocessed DataFrame back to a CSV\n",
    "    csv_buffer = StringIO()\n",
    "    df.to_csv(csv_buffer, index=False)\n",
    "\n",
    "    # Upload the preprocessed file back to S3\n",
    "    s3_client.put_object(Bucket=output_bucket_name, Key=output_file_name, Body=csv_buffer.getvalue())\n",
    "\n",
    "    print(f\"Preprocessed file uploaded to s3://{output_bucket_name}/{output_file_name}\")\n",
    "\n",
    "\n",
    "def list_files_in_s3_folder(bucket_name, folder_name):\n",
    "    # Create an S3 client\n",
    "    s3_client = boto3.client('s3')\n",
    "\n",
    "    # List objects within the specified folder\n",
    "    response = s3_client.list_objects_v2(Bucket=bucket_name, Prefix=folder_name)\n",
    "    \n",
    "    # Check if the folder contains any objects\n",
    "    if 'Contents' in response:\n",
    "        files = [os.path.basename(item['Key']) for item in response['Contents'] if not item['Key'].endswith('/')]\n",
    "        return files\n",
    "    else:\n",
    "        return []\n",
    "        \n",
    "# Example usage\n",
    "bucket_name = 'sagemaker-bucket-ds'\n",
    "input_folder_name = '01_STOCKS/DATA/RAW'\n",
    "output_folder_name = '01_STOCKS/DATA/PREPROCESSED'\n",
    "\n",
    "file_list = list_files_in_s3_folder(bucket_name, input_folder_name)\n",
    "\n",
    "for f in file_list:\n",
    "    input_file = input_folder_name + '/' + f\n",
    "    output_file = output_folder_name + '/' + f\n",
    "    preprocess_stock_data_from_s3(bucket_name, input_file, bucket_name, output_file)"
   ]
  }
 ],
 "metadata": {
  "kernelspec": {
   "display_name": "Python 3 (ipykernel)",
   "language": "python",
   "name": "python3"
  },
  "language_info": {
   "codemirror_mode": {
    "name": "ipython",
    "version": 3
   },
   "file_extension": ".py",
   "mimetype": "text/x-python",
   "name": "python",
   "nbconvert_exporter": "python",
   "pygments_lexer": "ipython3",
   "version": "3.10.14"
  }
 },
 "nbformat": 4,
 "nbformat_minor": 5
}
