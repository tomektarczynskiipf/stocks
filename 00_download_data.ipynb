{
 "cells": [
  {
   "cell_type": "code",
   "execution_count": 8,
   "id": "e4623142-5544-4c2c-9d0e-d1d0eb4567f7",
   "metadata": {},
   "outputs": [
    {
     "name": "stdout",
     "output_type": "stream",
     "text": [
      "Data downloaded and saved as ^spx_20000101_20231231_d.csv\n",
      "File uploaded to s3://sagemaker-bucket-ds/01_STOCKS/DATA/RAW/^spx_20000101_20231231_d.csv\n",
      "Data downloaded and saved as msft.us_20000101_20231231_d.csv\n",
      "File uploaded to s3://sagemaker-bucket-ds/01_STOCKS/DATA/RAW/msft.us_20000101_20231231_d.csv\n",
      "Data downloaded and saved as aapl.us_20000101_20231231_d.csv\n",
      "File uploaded to s3://sagemaker-bucket-ds/01_STOCKS/DATA/RAW/aapl.us_20000101_20231231_d.csv\n",
      "Data downloaded and saved as mcd.us_20000101_20231231_d.csv\n",
      "File uploaded to s3://sagemaker-bucket-ds/01_STOCKS/DATA/RAW/mcd.us_20000101_20231231_d.csv\n"
     ]
    }
   ],
   "source": [
    "import requests\n",
    "import boto3\n",
    "import os\n",
    "\n",
    "def download_stock_data(ticket, date_from, date_to, granularity, bucket_name, s3_path):\n",
    "    # Base URL for the stock data\n",
    "    base_url = \"https://stooq.pl/q/d/l/\"\n",
    "\n",
    "    # Parameters for the request\n",
    "    params = {\n",
    "        's': ticket,\n",
    "        'd1': date_from,\n",
    "        'd2': date_to,\n",
    "        'i': granularity\n",
    "    }\n",
    "\n",
    "    # Make the GET request to download the data\n",
    "    response = requests.get(base_url, params=params)\n",
    "\n",
    "    # Check if the request was successful\n",
    "    if response.status_code == 200:\n",
    "        # Define the local file name based on the parameters\n",
    "        file_name = f\"{ticket}_{date_from}_{date_to}_{granularity}.csv\"\n",
    "        \n",
    "        # Save the content to a local file\n",
    "        with open(file_name, 'wb') as file:\n",
    "            file.write(response.content)\n",
    "        \n",
    "        print(f\"Data downloaded and saved as {file_name}\")\n",
    "\n",
    "        # Upload the file to S3\n",
    "        s3_client = boto3.client('s3')\n",
    "        s3_key = os.path.join(s3_path, file_name)\n",
    "        s3_client.upload_file(file_name, bucket_name, s3_key)\n",
    "        \n",
    "        print(f\"File uploaded to s3://{bucket_name}/{s3_key}\")\n",
    "\n",
    "        # Clean up the local file if needed\n",
    "        os.remove(file_name)\n",
    "    else:\n",
    "        print(f\"Failed to download data. HTTP Status Code: {response.status_code}\")\n",
    "\n",
    "# Example usage\n",
    "bucket_name = 'sagemaker-bucket-ds'\n",
    "folder_name = '01_STOCKS/DATA/RAW'\n",
    "date_start = '20000101'\n",
    "date_end = '20231231'\n",
    "tickers = ['^spx', \"msft.us\", \"aapl.us\", \"mcd.us\"]\n",
    "for t in tickers:\n",
    "    download_stock_data(t, date_start, date_end, 'd', bucket_name, folder_name)"
   ]
  }
 ],
 "metadata": {
  "kernelspec": {
   "display_name": "Python 3 (ipykernel)",
   "language": "python",
   "name": "python3"
  },
  "language_info": {
   "codemirror_mode": {
    "name": "ipython",
    "version": 3
   },
   "file_extension": ".py",
   "mimetype": "text/x-python",
   "name": "python",
   "nbconvert_exporter": "python",
   "pygments_lexer": "ipython3",
   "version": "3.10.14"
  }
 },
 "nbformat": 4,
 "nbformat_minor": 5
}
